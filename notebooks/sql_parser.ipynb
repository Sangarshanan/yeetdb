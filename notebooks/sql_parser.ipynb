{
 "cells": [
  {
   "cell_type": "code",
   "execution_count": 1,
   "metadata": {},
   "outputs": [],
   "source": [
    "import re"
   ]
  },
  {
   "cell_type": "code",
   "execution_count": 10,
   "metadata": {},
   "outputs": [],
   "source": [
    "def parse_tokens(tokens):\n",
    "    if tokens:\n",
    "        return tokens[0]\n",
    "    else:\n",
    "        raise ParseException(\"Could not parse the SQL query\")\n",
    "\n",
    "class QueryParser(object):\n",
    "    \"\"\"Parse Query into into keywords.\"\"\"\n",
    "\n",
    "    def __init__(self, query):\n",
    "        super(QueryParser, self).__init__()\n",
    "        self.query = query\n",
    "\n",
    "    def _parse(self, tokens):\n",
    "        stripped_token = tokens.strip()\n",
    "\n",
    "        # meta commands\n",
    "        # .t -> List all Tables\n",
    "        if stripped_token in (\".t\"):\n",
    "            return tokens\n",
    "\n",
    "        if stripped_token.startswith(\"create\"):\n",
    "            tokens = re.findall(r\"create\\s+(table|database)\\s+([a-zA-Z_]*)\", tokens)\n",
    "            object, name = parse_tokens(tokens)\n",
    "            return object, name\n",
    "\n",
    "        # dml commands\n",
    "        if stripped_token.startswith(\"insert\"):\n",
    "            # insert\n",
    "            tokens = re.findall(\n",
    "                r\"insert\\s+into\\s+([a-zA-Z_]*).*\\((.*?)\\).*\\s+values.*\\((.*?)\\)\", tokens\n",
    "            )\n",
    "            tablename, cols, values = parse_tokens(tokens)\n",
    "            return tablename, cols, values\n",
    "\n",
    "        if stripped_token.startswith(\"select\"):\n",
    "            # select\n",
    "            cols = tablename = filters = limit = None\n",
    "            # Limit\n",
    "            if \"limit\" in tokens:\n",
    "                limit = int(parse_tokens(re.findall(r\"limit\\s+(\\d*)\", tokens)))\n",
    "                tokens = tokens.split(\"limit\")[0].strip()\n",
    "            # Filters\n",
    "            if \"where\" in tokens:\n",
    "                filters = parse_tokens(re.findall(r\"where\\s+(.*)\", tokens))\n",
    "                tokens = tokens.split(\"where\")[0].strip()\n",
    "            # Tablename and Columns\n",
    "            tokens = re.findall(r\"select\\s+(.*?)\\s*from\\s+(\\w*)\\s?\", tokens)\n",
    "            cols, tablename = parse_tokens(tokens)\n",
    "\n",
    "            return cols, tablename, filters, limit\n",
    "\n",
    "        else:\n",
    "            return ParseException(\"Could not parse the SQL query\")\n",
    "\n",
    "    def parse(self):\n",
    "        # Add space & lowercase\n",
    "        tokens = self.query.center(3).lower()\n",
    "        return self._parse(tokens)"
   ]
  },
  {
   "cell_type": "code",
   "execution_count": 14,
   "metadata": {},
   "outputs": [
    {
     "data": {
      "text/plain": [
       "('name', 'tablename', \"name='bheem'\", 10)"
      ]
     },
     "execution_count": 14,
     "metadata": {},
     "output_type": "execute_result"
    }
   ],
   "source": [
    "qc = QueryParser(\n",
    "\"\"\"\n",
    "SELECT name\n",
    "FROM tablename\n",
    "where name='bheem'\n",
    "limit 10\n",
    "\"\"\"\n",
    ")\n",
    "qc.parse()"
   ]
  },
  {
   "cell_type": "code",
   "execution_count": 12,
   "metadata": {},
   "outputs": [
    {
     "data": {
      "text/plain": [
       "('person', 'id,age,name', \"3,32,'phoebe'\")"
      ]
     },
     "execution_count": 12,
     "metadata": {},
     "output_type": "execute_result"
    }
   ],
   "source": [
    "qc = QueryParser(\"INSERT INTO person(id,age,name) VALUES(3,32,'Phoebe')\")\n",
    "qc.parse()"
   ]
  },
  {
   "cell_type": "code",
   "execution_count": 13,
   "metadata": {},
   "outputs": [
    {
     "data": {
      "text/plain": [
       "('database', 'bruh')"
      ]
     },
     "execution_count": 13,
     "metadata": {},
     "output_type": "execute_result"
    }
   ],
   "source": [
    "qc = QueryParser(\"CREATE database bruh\")\n",
    "qc.parse()"
   ]
  }
 ],
 "metadata": {
  "kernelspec": {
   "display_name": "Python 3",
   "language": "python",
   "name": "python3"
  },
  "language_info": {
   "codemirror_mode": {
    "name": "ipython",
    "version": 3
   },
   "file_extension": ".py",
   "mimetype": "text/x-python",
   "name": "python",
   "nbconvert_exporter": "python",
   "pygments_lexer": "ipython3",
   "version": "3.6.8"
  }
 },
 "nbformat": 4,
 "nbformat_minor": 4
}
