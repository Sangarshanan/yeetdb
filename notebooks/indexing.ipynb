{
 "cells": [
  {
   "cell_type": "markdown",
   "metadata": {},
   "source": [
    "## Indexing in Databases\n",
    "\n",
    "In order to efficiently find the value for a particular key in the database, we need a\n",
    "different data structure: **an index** where the the general idea behind them is to keep some\n",
    "additional metadata on the side, which acts as a signpost and helps you to locate the data you want.\n",
    "\n",
    "An index is an additional structure that is derived from the primary data. Many data‐\n",
    "bases allow you to add and remove indexes, and this doesn’t affect the contents of the\n",
    "database; it only affects the performance of queries. Maintaining additional structures\n",
    "incurs overhead, especially on writes. For writes, it’s hard to beat the performance of\n",
    "simply appending to a file, because that’s the simplest possible write operation. Any\n",
    "kind of index usually slows down writes, because the index also needs to be updated\n",
    "every time data is written.\n",
    "\n"
   ]
  },
  {
   "cell_type": "markdown",
   "metadata": {},
   "source": [
    "## Hash Indexes\n",
    "\n",
    "A simple key value pair index. Let’s say our data storage consists only of appending to a file, as in the preceding example. Then the simplest possible indexing strategy is this: keep an in-memory\n",
    "hash map where every key is mapped to a byte offset in the data file—the location at\n",
    "which the value can be found. Whenever you append a\n",
    "new key-value pair to the file, you also update the hash map to reflect the offset of the\n",
    "data you just wrote (this works both for inserting new keys and for updating existing\n",
    "keys). When you want to look up a value, use the hash map to find the offset in the\n",
    "data file, seek to that location, and read the value.\n",
    "\n",
    "\n",
    "**Tombstone:** If you want to delete a key and its associated value, you have to append a special\n",
    "deletion record to the data file (sometimes called a tombstone). When log seg‐\n",
    "ments are merged, the tombstone tells the merging process to discard any previ‐\n",
    "ous values for the deleted key.\n",
    "\n",
    "**Crash Recovery:**\n",
    "If the database is restarted, the in-memory hash maps are lost. In principle, you\n",
    "can restore each segment’s hash map by reading the entire segment file from\n",
    "beginning to end and noting the offset of the most recent value for every key as\n",
    "you go along. However, that might take a long time if the segment files are large,\n",
    "which would make server restarts painful. To avoid this we can snapshot of each segment’s hash map on disk, which can be loaded into memory more quickly.\n",
    "\n",
    "### However, the hash table index also has limitations:\n",
    "• The hash table must fit in memory, so if you have a very large number of keys,\n",
    "you’re out of luck. In principle, you could maintain a hash map on disk, but\n",
    "unfortunately it is difficult to make an on-disk hash map perform well. It\n",
    "requires a lot of random access I/O, it is expensive to grow when it becomes full,\n",
    "and hash collisions require fiddly logic.\n",
    "\n",
    "• Range queries are not efficient. For example, you cannot easily scan over all keys\n",
    "between kitty00000 and kitty99999 you’d have to look up each key individually in the hash maps."
   ]
  },
  {
   "cell_type": "markdown",
   "metadata": {},
   "source": [
    "### In-Memory index (KV Pairs)"
   ]
  },
  {
   "cell_type": "code",
   "execution_count": 1,
   "metadata": {},
   "outputs": [],
   "source": [
    "import os \n",
    "def encode(value):\n",
    "    return value.encode('unicode-escape').decode('ASCII')\n",
    "\n",
    "def decode(value):\n",
    "    return value.encode(\"ASCII\").decode('unicode-escape')\n",
    "\n",
    "class HashIndex:\n",
    "    def __init__(self, name):\n",
    "        self.name = f\"data/{name}.kv\" # Filename\n",
    "        if not os.path.exists(self.name):\n",
    "            with open(self.name, 'w'):\n",
    "                pass\n",
    "        self.index = {}\n",
    "    \n",
    "    # Special characters <EOK> end of key & <EOP> end of pair\n",
    "\n",
    "    def insert(self, key, value):\n",
    "        # Write to file and save offset\n",
    "        with open(self.name, 'a') as f:\n",
    "            f.seek(0, 2) # first line from the end\n",
    "            end_offset = f.tell() # end offset\n",
    "            f.write(encode(f\"{key}<EOK>{value}<EOP>\"))\n",
    "        # create index using offset\n",
    "        self.index[key] = {\n",
    "            \"offset\": end_offset,\n",
    "            \"pk_size\": len(f\"{key}\"), \n",
    "            \"data_size\": len(f\"{value}\"),\n",
    "            \"data\": f\"{value}\"\n",
    "        }\n",
    "        \n",
    "    def get(self, key):\n",
    "        # Read from Offset and length\n",
    "        try:\n",
    "            return self.index[key][\"data\"]\n",
    "        except:\n",
    "            return \"<NAN>\"\n",
    "\n",
    "    def iterate(self, keys):\n",
    "        return list(map(lambda x : self.get(x), keys))\n",
    "\n",
    "    def delete(self,key):\n",
    "        key_index = self.index[key]\n",
    "        with open(self.name, 'a') as f:\n",
    "            char = f.seek(key_index[\"offset\"])\n",
    "            # Tombstone\n",
    "            f.write(encode(f\"{key}<EOK><NAN><EOP>\"))\n",
    "        self.index.pop(key, None)"
   ]
  },
  {
   "cell_type": "code",
   "execution_count": 2,
   "metadata": {},
   "outputs": [
    {
     "name": "stdout",
     "output_type": "stream",
     "text": [
      "{1: {'offset': 0, 'pk_size': 1, 'data_size': 17, 'data': \"{'name': 'bheem'}\"}, 2: {'offset': 28, 'pk_size': 1, 'data_size': 1, 'data': '😎'}, 3: {'offset': 49, 'pk_size': 1, 'data_size': 18, 'data': 'Some Stupid String'}, 4: {'offset': 78, 'pk_size': 1, 'data_size': 15, 'data': '120293292939393'}}\n"
     ]
    }
   ],
   "source": [
    "infile = HashIndex(\"hash_test\")\n",
    "infile.insert(1, {\"name\":\"bheem\"}) # Dict\n",
    "infile.insert(2, '😎') # Emoji\n",
    "infile.insert(3, \"Some Stupid String\") # String\n",
    "infile.insert(4, 120293292939393) # Big Number\n",
    "print(infile.index)"
   ]
  },
  {
   "cell_type": "markdown",
   "metadata": {},
   "source": [
    "### Operations"
   ]
  },
  {
   "cell_type": "code",
   "execution_count": 3,
   "metadata": {},
   "outputs": [
    {
     "name": "stdout",
     "output_type": "stream",
     "text": [
      "[\"{'name': 'bheem'}\", '😎', 'Some Stupid String', '120293292939393']\n",
      "😎\n"
     ]
    }
   ],
   "source": [
    "print(infile.iterate([1,2,3,4]))\n",
    "print(infile.get(2))"
   ]
  },
  {
   "cell_type": "code",
   "execution_count": 4,
   "metadata": {},
   "outputs": [],
   "source": [
    "# Create\n",
    "assert infile.get(1) == \"{'name': 'bheem'}\"\n",
    "assert infile.get(3) == 'Some Stupid String'\n",
    "assert infile.get(4) == '120293292939393'\n",
    "infile.iterate([3, 1]) == ['Some Stupid String', \"{'name': 'bheem'}\"]\n",
    "# Update\n",
    "infile.insert(4, 'update 4th index') # Big Number\n",
    "assert infile.get(4) == 'update 4th index'\n",
    "# Delete\n",
    "infile.delete(4)\n",
    "assert infile.get(4) == '<NAN>'"
   ]
  },
  {
   "cell_type": "markdown",
   "metadata": {},
   "source": [
    "### Read from disk\n",
    "\n",
    "When database restarts the index needs to be re-read back into memory"
   ]
  },
  {
   "cell_type": "code",
   "execution_count": 5,
   "metadata": {},
   "outputs": [],
   "source": [
    "def read_hash_index(filename):\n",
    "    with open(f'data/{filename}.kv') as f:\n",
    "        lines = f.readline()\n",
    "    _index = {}\n",
    "    offset_passed = 0\n",
    "    for val in lines.split(\"<EOP>\")[:-1]:\n",
    "        key, value = val.split(\"<EOK>\")\n",
    "        _index[int(key)] = {\n",
    "            \"offset\": offset_passed,\n",
    "            \"pk_size\": len(key), \n",
    "            \"data_size\": len(value),\n",
    "            \"data\": decode(f\"{value}\")\n",
    "        }\n",
    "        offset_passed += len(val) + 5\n",
    "    hashin = HashIndex(\"hash_test\")\n",
    "    hashin.index = _index\n",
    "    return hashin"
   ]
  },
  {
   "cell_type": "code",
   "execution_count": 6,
   "metadata": {},
   "outputs": [
    {
     "data": {
      "text/plain": [
       "[\"{'name': 'bheem'}\", '😎', 'Some Stupid String', '<NAN>']"
      ]
     },
     "execution_count": 6,
     "metadata": {},
     "output_type": "execute_result"
    }
   ],
   "source": [
    "infile = read_hash_index(\"hash_test\")\n",
    "infile.iterate([1,2,3,4])"
   ]
  },
  {
   "cell_type": "markdown",
   "metadata": {},
   "source": [
    "## Tree indexes\n",
    "\n",
    "We can make a simple change to the format of our segment files: we require that the sequence of key-value pairs is sorted by key\n",
    "\n",
    "Maintaining a sorted structure in memory is super easy and There are plenty of well-known tree data\n",
    "structures that you can use, such as red-black trees or AVL trees. With these data\n",
    "structures, you can insert keys in any order and read them back in sorted order. Also with these Insertion Deletion and Search complexity are O(log n) so they don't increase exponentially or by N factor\n",
    "\n",
    "\n",
    "**LSM Trees**\n",
    "\n",
    "\n",
    "Here is how LSM Indexes work with Balanced trees like AVL, Red Black \n",
    "\n",
    "\n",
    "-  When a write comes in, add it to an in-memory balanced tree data structure (for\n",
    "example, a red-black tree). This in-memory tree is sometimes called a memtable.\n",
    "- When the memtable gets bigger than some threshold—typically a few megabytes\n",
    "—write it out to disk as an SSTable file. This can be done efficiently because the\n",
    "tree already maintains the key-value pairs sorted by key. The new SSTable file\n",
    "becomes the most recent segment of the database. While the SSTable is being\n",
    "written out to disk, writes can continue to a new memtable instance.\n",
    "- In order to serve a read request, first try to find the key in the memtable, then in\n",
    "the most recent on-disk segment, then in the next-older segment, etc.\n",
    "- From time to time, run a merging and compaction process in the background to\n",
    "combine segment files and to discard overwritten or deleted values.\n",
    "\n",
    "\n",
    "AVL Trees\n",
    ": https://www.programiz.com/dsa/avl-tree\n",
    "\n",
    "Red-Black Trees\n",
    ": https://www.youtube.com/playlist?list=PL9xmBV_5YoZNqDI8qfOZgzbqahCUmUEin\n",
    "\n",
    "\n",
    "**BTree**\n",
    "\n",
    "We discussed AVL trees for LSM indexes above but we can also resort to Btree which is a more commonly used index\n",
    "\n",
    "Balanced Trees like binary search tree, avl tree and red-black tree can store only one key in one node. If you have to store a large number of keys, then the height of such trees becomes very large and the access time increases. However, B-tree can store many keys in a single node and can have multiple child nodes. This decreases the height significantly allowing faster disk accesses.\n",
    "\n",
    "B tree: https://www.programiz.com/dsa/b-tree\n",
    "\n",
    "The log-structured indexes we saw earlier break the database down into variable-size\n",
    "segments, typically several megabytes or more in size, and always write a segment\n",
    "sequentially. By contrast, B-trees break the database down into fixed-size blocks or\n",
    "pages, traditionally 4 KB in size (sometimes bigger), and read or write one page at a\n",
    "time. This design corresponds more closely to the underlying hardware, as disks are\n",
    "also arranged in fixed-size blocks.\n",
    "\n",
    "LSM-trees are typically faster for writes, whereas B-trees\n",
    "are thought to be faster for reads. Reads are typically slower on LSM-trees\n",
    "because they have to check several different data structures and SSTables at different\n",
    "stages of compaction.\n",
    "\n",
    "\n",
    "AVL trees are intended for in-memory use, where random access is relatively cheap. B-trees are better suited for disk-backed storage, because they group a larger number of keys into each node to minimize the number of seeks required by a read or write operation. (This is why B-trees are often used in file systems and databases, such as SQLite.)\n",
    "\n",
    "\n",
    "https://github.com/NicolasLM/bplustree\n",
    "\n",
    "https://stackoverflow.com/questions/2734692/avl-tree-vs-b-tree/2734720"
   ]
  },
  {
   "cell_type": "code",
   "execution_count": 11,
   "metadata": {},
   "outputs": [],
   "source": [
    "# Create a tree node\n",
    "class Node(object):\n",
    "    def __init__(self, key, data=None):\n",
    "        self.key = key\n",
    "        self.data = str(data)\n",
    "        self.left = None\n",
    "        self.right = None\n",
    "        self.height = 1\n",
    "\n",
    "class TreeIndex(object):\n",
    "\n",
    "    # Search through the TreeIndex\n",
    "    def get(self, root, val):\n",
    "        if root is None:\n",
    "            return None\n",
    "        elif (root.key == val):\n",
    "            return root\n",
    "        elif(root.key < val):\n",
    "            return self.get(root.right,val)\n",
    "        return self.get(root.left,val)\n",
    "\n",
    "    # Function to insert a node\n",
    "    def insert(self, root, key, data):\n",
    "        node = self.get(root, key)\n",
    "        # Find the correct location and insert the node\n",
    "        if not root:\n",
    "            return Node(key=key, data=data)\n",
    "        # Node already exists\n",
    "        elif node:\n",
    "            node.data = data\n",
    "        elif key < root.key:\n",
    "            root.left = self.insert(root.left, key, data)\n",
    "        else:\n",
    "            root.right = self.insert(root.right, key, data)\n",
    "\n",
    "        root.height = 1 + max(self.get_height(root.left),\n",
    "                              self.get_height(root.right))\n",
    "\n",
    "        # Update the balance factor and balance the tree\n",
    "        balanceFactor = self.get_balance(root)\n",
    "        if balanceFactor > 1:\n",
    "            if key < root.left.key:\n",
    "                return self.rotate_right(root)\n",
    "            else:\n",
    "                root.left = self.rotate_left(root.left)\n",
    "                return self.rotate_right(root)\n",
    "\n",
    "        if balanceFactor < -1:\n",
    "            if key > root.right.key:\n",
    "                return self.rotate_left(root)\n",
    "            else:\n",
    "                root.right = self.rotate_right(root.right)\n",
    "                return self.rotate_left(root)\n",
    "\n",
    "        return root\n",
    "\n",
    "    # Function to delete a node\n",
    "    def delete(self, root, key):\n",
    "\n",
    "        # Find the node to be deleted and remove it\n",
    "        if not root:\n",
    "            return root\n",
    "        elif key < root.key:\n",
    "            root.left = self.delete(root.left, key)\n",
    "        elif key > root.key:\n",
    "            root.right = self.delete(root.right, key)\n",
    "        else:\n",
    "            if root.left is None:\n",
    "                temp = root.right\n",
    "                root = None\n",
    "                return temp\n",
    "            elif root.right is None:\n",
    "                temp = root.left\n",
    "                root = None\n",
    "                return temp\n",
    "            temp = self.min_node(root.right)\n",
    "            root.key = temp.key\n",
    "            root.right = self.delete(root.right,\n",
    "                                          temp.key)\n",
    "        if root is None:\n",
    "            return root\n",
    "\n",
    "        # Update the balance factor of nodes\n",
    "        root.height = 1 + max(self.get_height(root.left),\n",
    "                              self.get_height(root.right))\n",
    "\n",
    "        balanceFactor = self.get_balance(root)\n",
    "\n",
    "        # Balance the tree\n",
    "        if balanceFactor > 1:\n",
    "            if self.get_balance(root.left) >= 0:\n",
    "                return self.rotate_right(root)\n",
    "            else:\n",
    "                root.left = self.rotate_left(root.left)\n",
    "                return self.rotate_right(root)\n",
    "        if balanceFactor < -1:\n",
    "            if self.get_balance(root.right) <= 0:\n",
    "                return self.rotate_left(root)\n",
    "            else:\n",
    "                root.right = self.rotate_right(root.right)\n",
    "                return self.rotate_left(root)\n",
    "        return root\n",
    "\n",
    "    # Function to perform left rotation\n",
    "    def rotate_left(self, z):\n",
    "        y = z.right\n",
    "        T2 = y.left\n",
    "        y.left = z\n",
    "        z.right = T2\n",
    "        z.height = 1 + max(self.get_height(z.left),\n",
    "                           self.get_height(z.right))\n",
    "        y.height = 1 + max(self.get_height(y.left),\n",
    "                           self.get_height(y.right))\n",
    "        return y\n",
    "\n",
    "    # Function to perform right rotation\n",
    "    def rotate_right(self, z):\n",
    "        y = z.left\n",
    "        T3 = y.right\n",
    "        y.right = z\n",
    "        z.left = T3\n",
    "        z.height = 1 + max(self.get_height(z.left),\n",
    "                           self.get_height(z.right))\n",
    "        y.height = 1 + max(self.get_height(y.left),\n",
    "                           self.get_height(y.right))\n",
    "        return y\n",
    "\n",
    "    # Get the height of the node\n",
    "    def get_height(self, root):\n",
    "        if not root:\n",
    "            return 0\n",
    "        return root.height\n",
    "\n",
    "    # Get balance factor of the node\n",
    "    def get_balance(self, root):\n",
    "        if not root:\n",
    "            return 0\n",
    "        return self.get_height(root.left) - self.get_height(root.right)\n",
    "\n",
    "    def min_node(self, root):\n",
    "        if root is None or root.left is None:\n",
    "            return root\n",
    "        return self.min_node(root.left)\n",
    "\n",
    "    def show(self, root):\n",
    "        if root:\n",
    "            print(root.key)\n",
    "            self.show(root.left)\n",
    "            self.show(root.right)"
   ]
  },
  {
   "cell_type": "markdown",
   "metadata": {},
   "source": [
    "### Operations"
   ]
  },
  {
   "cell_type": "code",
   "execution_count": 12,
   "metadata": {},
   "outputs": [
    {
     "name": "stdout",
     "output_type": "stream",
     "text": [
      "{'a': 'apple'}\n",
      "Updated Value\n",
      "None\n"
     ]
    }
   ],
   "source": [
    "tindex = TreeIndex()\n",
    "# Create\n",
    "nums = [(1, {\"a\": \"apple\"}), (2, 423), (3, \"Some String\")]\n",
    "root = None\n",
    "for num in nums:\n",
    "    root = tindex.insert(root, num[0], num[1])\n",
    "print(tindex.get(root, 1).data)\n",
    "\n",
    "# Update\n",
    "root = tindex.insert(root, 1, \"Updated Value\")\n",
    "print(tindex.get(root, 1).data)\n",
    "\n",
    "# Delete \n",
    "root = tindex.delete(root, 1)\n",
    "print(tindex.get(root, 1))"
   ]
  },
  {
   "cell_type": "code",
   "execution_count": null,
   "metadata": {},
   "outputs": [],
   "source": []
  },
  {
   "cell_type": "code",
   "execution_count": null,
   "metadata": {},
   "outputs": [],
   "source": []
  },
  {
   "cell_type": "markdown",
   "metadata": {},
   "source": []
  },
  {
   "cell_type": "code",
   "execution_count": null,
   "metadata": {},
   "outputs": [],
   "source": []
  },
  {
   "cell_type": "code",
   "execution_count": null,
   "metadata": {},
   "outputs": [],
   "source": []
  },
  {
   "cell_type": "code",
   "execution_count": null,
   "metadata": {},
   "outputs": [],
   "source": []
  },
  {
   "cell_type": "code",
   "execution_count": null,
   "metadata": {},
   "outputs": [],
   "source": []
  },
  {
   "cell_type": "markdown",
   "metadata": {},
   "source": [
    "Other Indexes:\n",
    "\n",
    "- Multidimensional Indexes (For GIS data) i,e Latitude and Longitude\n",
    "- Full text search & Fuzzy Indexes"
   ]
  },
  {
   "cell_type": "code",
   "execution_count": null,
   "metadata": {},
   "outputs": [],
   "source": []
  },
  {
   "cell_type": "code",
   "execution_count": null,
   "metadata": {},
   "outputs": [],
   "source": []
  },
  {
   "cell_type": "code",
   "execution_count": null,
   "metadata": {},
   "outputs": [],
   "source": []
  },
  {
   "cell_type": "code",
   "execution_count": null,
   "metadata": {},
   "outputs": [],
   "source": []
  },
  {
   "cell_type": "code",
   "execution_count": null,
   "metadata": {},
   "outputs": [],
   "source": []
  },
  {
   "cell_type": "code",
   "execution_count": null,
   "metadata": {},
   "outputs": [],
   "source": []
  },
  {
   "cell_type": "code",
   "execution_count": null,
   "metadata": {},
   "outputs": [],
   "source": []
  },
  {
   "cell_type": "code",
   "execution_count": null,
   "metadata": {},
   "outputs": [],
   "source": []
  },
  {
   "cell_type": "code",
   "execution_count": null,
   "metadata": {},
   "outputs": [],
   "source": []
  },
  {
   "cell_type": "markdown",
   "metadata": {},
   "source": [
    "### Material \n",
    "\n",
    "- https://cstack.github.io/db_tutorial/\n",
    "- https://tikv.github.io/deep-dive-tikv/overview/introduction.html"
   ]
  }
 ],
 "metadata": {
  "kernelspec": {
   "display_name": "Python 3",
   "language": "python",
   "name": "python3"
  },
  "language_info": {
   "codemirror_mode": {
    "name": "ipython",
    "version": 3
   },
   "file_extension": ".py",
   "mimetype": "text/x-python",
   "name": "python",
   "nbconvert_exporter": "python",
   "pygments_lexer": "ipython3",
   "version": "3.7.4"
  }
 },
 "nbformat": 4,
 "nbformat_minor": 4
}
